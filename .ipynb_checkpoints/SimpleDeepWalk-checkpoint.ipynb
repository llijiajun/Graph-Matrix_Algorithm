{
 "cells": [
  {
   "cell_type": "code",
   "execution_count": 1,
   "metadata": {},
   "outputs": [],
   "source": [
    "import numpy as np\n",
    "import random\n",
    "from matplotlib import pyplot as plt\n",
    "import math"
   ]
  },
  {
   "cell_type": "code",
   "execution_count": 2,
   "metadata": {},
   "outputs": [],
   "source": [
    "G={\n",
    "    1:[2,3,5,7],\n",
    "    2:[1],\n",
    "    3:[1],\n",
    "    4:[6,7],\n",
    "    6:[4,5],\n",
    "    7:[1,4],\n",
    "    5:[1,6],\n",
    "}"
   ]
  },
  {
   "cell_type": "code",
   "execution_count": 3,
   "metadata": {},
   "outputs": [],
   "source": [
    "#随机初始化\n",
    "emb=np.random.randn(7,2)"
   ]
  },
  {
   "cell_type": "code",
   "execution_count": 4,
   "metadata": {},
   "outputs": [],
   "source": [
    "for epoch in range(10000):\n",
    "    for i in range(7):\n",
    "        node=i\n",
    "        # 随机路径\n",
    "        for path in range(random.randint(1,3)):\n",
    "            node=int(np.random.choice(G[node+1]))-1\n",
    "        # 正例\n",
    "        # score是根据loss求导得到的,0.01为步长,后面的是梯度\n",
    "        score=0.01*(1.0-1.0/(1+math.exp(-emb[i,:].dot(emb[node,:]))))\n",
    "        temp=score*emb[i,:]\n",
    "        emb[i,:]+=score*emb[node,:]\n",
    "        emb[node,:]+=temp\n",
    "        # 负例\n",
    "        neg=random.randint(0,6)\n",
    "        score=0.01*(-1.0/(1+math.exp(-emb[i,:].dot(emb[neg,:]))))\n",
    "        temp=score*emb[i,:]\n",
    "        emb[i,:]+=score*emb[neg,:]\n",
    "        emb[neg,:]+=temp"
   ]
  },
  {
   "cell_type": "code",
   "execution_count": 5,
   "metadata": {},
   "outputs": [
    {
     "data": {
      "image/png": "[encoded data removed]",
      "text/plain": [
       "<Figure size 432x288 with 1 Axes>"
      ]
     },
     "metadata": {
      "needs_background": "light"
     },
     "output_type": "display_data"
    }
   ],
   "source": [
    "txt = [str(i) for i in range(1,8)]\n",
    "plt.scatter(emb[:,0],emb[:,1],marker='x',color='b',s=40,label='1')\n",
    "for i in range(7):\n",
    "    plt.annotate(txt[i],xy=(emb[i,0],emb[i,1]),xytext=(emb[i,0]-0.04,emb[i,1]-0.07))\n",
    "plt.savefig(\"1.svg\")"
   ]
  },
  {
   "cell_type": "code",
   "execution_count": null,
   "metadata": {},
   "outputs": [],
   "source": []
  }
 ],
 "metadata": {
  "kernelspec": {
   "display_name": "Python 3",
   "language": "python",
   "name": "python3"
  },
  "language_info": {
   "codemirror_mode": {
    "name": "ipython",
    "version": 3
   },
   "file_extension": ".py",
   "mimetype": "text/x-python",
   "name": "python",
   "nbconvert_exporter": "python",
   "pygments_lexer": "ipython3",
   "version": "3.7.4"
  }
 },
 "nbformat": 4,
 "nbformat_minor": 2
}
